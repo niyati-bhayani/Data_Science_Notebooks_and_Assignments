{
 "cells": [
  {
   "cell_type": "markdown",
   "metadata": {
    "colab_type": "text",
    "id": "YZrhRkufPP7W"
   },
   "source": [
    "![](https://drive.google.com/uc?id=1LOH2NIuQ8HBr02W_V19HfUeTHMNclg0w)\n",
    "\n",
    "\n",
    "\n"
   ]
  },
  {
   "cell_type": "markdown",
   "metadata": {
    "colab_type": "text",
    "id": "DsjzmuUdAZKK"
   },
   "source": [
    "## Agenda for the Day\n",
    "***\n",
    "- Basic Probability\n",
    "- Conditional Probability\n",
    "- Bayes Theorem\n",
    "- Random Variable\n",
    "- Probability Distributions\n",
    "- Normal Distribution"
   ]
  },
  {
   "cell_type": "markdown",
   "metadata": {
    "colab_type": "text",
    "id": "lvINsdqwFa8f"
   },
   "source": [
    "## Big Picture of Probability\n",
    "\n",
    "* Model Uncertanity - Real-world is filled with uncertainty - you cannot predict how certain events will turn out. It is very important for a data scientist to model uncertainty.\n",
    "* Probability gives us tools for dealing with life’s uncertainties.\n",
    "* While we cannot predict events accurately, we can form an idea of how likely the events will or will not occur. \n",
    "* Probability can even help us maximize your winnings on game shows (as\n",
    "we will later see in the Monty Hall Puzzle.)"
   ]
  },
  {
   "cell_type": "markdown",
   "metadata": {
    "colab_type": "text",
    "id": "2pmtWGV7RKSz"
   },
   "source": [
    "## An example\n",
    "* Businesses facing uncertainty have always sought to quantify their risks. \n",
    "* Insurance officials describe their business as the “transfer of risk”.\n",
    "\n",
    "Insurance companies are in the business of knowing things that might otherwise seem like random trivia: \n",
    "- Twenty to twenty-four-year-old drivers are the most likely to be\n",
    "involved in a fatal crash.\n",
    "- The most commonly stolen car in Illinois is the Honda Civic.\n",
    "- Texting while driving causes crashes, but state laws banning the\n",
    "practice do not seem to stop drivers from doing it. In fact, such laws\n",
    "might even make things worse by prompting drivers to hide their\n",
    "phones and therefore take their eyes off the road while texting."
   ]
  },
  {
   "cell_type": "markdown",
   "metadata": {
    "colab_type": "text",
    "id": "2xq155u5AZKL"
   },
   "source": [
    "## Basic Probability - Intuition\n",
    "***\n",
    "\n",
    " - Let's start with a simple example: Say, we flip a fair coin\n",
    " \n",
    " - Intuitively, there's a 50% chance of getting heads, and a 50% chance of getting tails. This is because there are only two possible outcomes, and each event is equally likely.\n",
    " \n",
    " - Therefore, we can say that the **Probability** of getting a *Heads* is 0.5. Similarly, Probability of getting a *Tails* is 0.5 \n",
    " \n",
    " - **Probability can roughly be described as \"the percentage chance of an event or sequence of events occurring\".**\n"
   ]
  },
  {
   "cell_type": "markdown",
   "metadata": {
    "colab_type": "text",
    "id": "EcbcjStAAZKL"
   },
   "source": [
    "## Basic Probability - Intuition\n",
    "\n",
    "Some common terms thrown around are: \n",
    "\n",
    "* **Experiment** – Any activity with multiple results/ outcomes that are finite. A coin toss is an experiment.\n",
    "* **Outcomes** - All possible results of an experiment. Heads and Tails are two possible outcomes of a coin toss.\n",
    "* **Event** - A particular outcome is called an event. “Tails” is one of the possible events for this experiment.\n",
    "\n"
   ]
  },
  {
   "cell_type": "markdown",
   "metadata": {
    "colab_type": "text",
    "id": "9jaat9ad9_0y"
   },
   "source": [
    "## Quiz: What is Experiment, Outcome & Event in the following examples?\n",
    "\n",
    "* We roll a die and 4 appears. <font color='red'>Experiment: Rolling a die, Outcomes: 1-6, Event: 4</font>\n",
    "* An Ace of Spade is drawn randomly from a deck of 52 cards. <font color='red'>Experiment: Picking one card for a pack of 52 cards, Outcomes: 52 cards, Event: Ace of Spade</font>\n",
    "* Suppose we toss a coin twice, and we get a head (H) on the first toss and a tail (T) on the second toss.  <font color='red'>Experiment: Tossing a coin twice, Outcomes: {HH, HT, TH, TT}, Event: HT</font>\n"
   ]
  },
  {
   "cell_type": "markdown",
   "metadata": {
    "colab_type": "text",
    "id": "ssoXJfvZAZKM"
   },
   "source": [
    "## Basic Probability - Easy Rules\n",
    "***\n",
    "These are a list of some comprehensive rules Probability must follow: \n",
    "\n",
    " - The Probability that nothing occurs is 0 \n",
    " - The Probability that something occurs is 1\n",
    " - The probability of something is 1 minus the probability that the opposite occurs\n",
    " \n",
    " - The probability of at least 1 of 2 (or more) things that can not simultaneously occur (mutually exclusive) is the sum of their respective probabilities\n",
    " \n",
    " - **\"Mutually exclusive\"** is a statistical term describing two or more events that cannot occur simultaneously. For example, it is impossible to roll a five and a three on a single die at the same time. "
   ]
  },
  {
   "cell_type": "markdown",
   "metadata": {
    "colab_type": "text",
    "id": "tcWaXTnxAZKN"
   },
   "source": [
    "## Basic Probability - Easy Rules\n",
    "***\n",
    " - For any 2 events the probability that at least one occurs is the sum of their probabilities minus their intersection\n",
    " \n",
    "## **In-class Activity** \n",
    " \n",
    " - The National Sleep Foundation reports that around 3% of the American population has sleep-breathing issues. They also report that around 10% of the American population has *restless leg syndrome*. Does this imply that 13% of people will have at least one sleep problems of these sorts?"
   ]
  },
  {
   "cell_type": "markdown",
   "metadata": {
    "colab_type": "text",
    "id": "nT5e1urrAZKN"
   },
   "source": [
    "Answer: No, the events can simultaneously occur and so are not mutually exclusive. To elaborate: \n",
    "***\n",
    "![](https://drive.google.com/uc?id=1dDxJ7IG1h3fkg5IYOTGIPg7RSWRdLWDK)"
   ]
  },
  {
   "cell_type": "markdown",
   "metadata": {
    "colab_type": "text",
    "id": "IgjOcDzoAZKN"
   },
   "source": [
    "## Calculating probability \n",
    "***\n",
    "- We have a dataset having details of the House Price in Brooklyn and certain other features.\n",
    "- Lets check the Probability of picking a house in the Neighborhood of \"OldTown\"\n",
    "\n",
    "- This is nothing but: \n",
    "   - No. of houses in OldTown/Total no. of houses\n",
    "   \n",
    "- Let's go through this in Python"
   ]
  },
  {
   "cell_type": "code",
   "execution_count": 1,
   "metadata": {
    "colab": {
     "base_uri": "https://localhost:8080/",
     "height": 70
    },
    "colab_type": "code",
    "executionInfo": {
     "elapsed": 912,
     "status": "ok",
     "timestamp": 1592596776125,
     "user": {
      "displayName": "Satyapriya Chaudhari",
      "photoUrl": "https://lh3.googleusercontent.com/a-/AOh14GiwqGWH8rItAiQcXo2XqlnRlLD_bHd12hqXzQ0qlg=s64",
      "userId": "15909927639307960054"
     },
     "user_tz": -330
    },
    "id": "A1pGLlBLAZKO",
    "outputId": "16cc00a3-b397-4a07-9369-ed53ea2971a1"
   },
   "outputs": [],
   "source": [
    "# import the modules\n",
    "\n",
    "from __future__ import division\n",
    "import warnings\n",
    "import pandas as pd\n",
    "import numpy as np\n",
    "import matplotlib.pyplot as plt\n",
    "import seaborn as sns\n",
    "%matplotlib inline\n",
    "warnings.filterwarnings('ignore')"
   ]
  },
  {
   "cell_type": "code",
   "execution_count": 2,
   "metadata": {
    "colab": {
     "base_uri": "https://localhost:8080/",
     "height": 232
    },
    "colab_type": "code",
    "executionInfo": {
     "elapsed": 1706,
     "status": "ok",
     "timestamp": 1592597694812,
     "user": {
      "displayName": "Satyapriya Chaudhari",
      "photoUrl": "https://lh3.googleusercontent.com/a-/AOh14GiwqGWH8rItAiQcXo2XqlnRlLD_bHd12hqXzQ0qlg=s64",
      "userId": "15909927639307960054"
     },
     "user_tz": -330
    },
    "id": "3BvvNPIKAZKR",
    "outputId": "b0575f42-cca1-40dd-e69f-98bb2f2c0a92"
   },
   "outputs": [
    {
     "data": {
      "text/html": [
       "<div>\n",
       "<style scoped>\n",
       "    .dataframe tbody tr th:only-of-type {\n",
       "        vertical-align: middle;\n",
       "    }\n",
       "\n",
       "    .dataframe tbody tr th {\n",
       "        vertical-align: top;\n",
       "    }\n",
       "\n",
       "    .dataframe thead th {\n",
       "        text-align: right;\n",
       "    }\n",
       "</style>\n",
       "<table border=\"1\" class=\"dataframe\">\n",
       "  <thead>\n",
       "    <tr style=\"text-align: right;\">\n",
       "      <th></th>\n",
       "      <th>Unnamed: 0</th>\n",
       "      <th>Id</th>\n",
       "      <th>LotArea</th>\n",
       "      <th>Neighborhood</th>\n",
       "      <th>BldgType</th>\n",
       "      <th>HouseStyle</th>\n",
       "      <th>OverallQual</th>\n",
       "      <th>OverallCond</th>\n",
       "      <th>YearBuilt</th>\n",
       "      <th>Heating</th>\n",
       "      <th>GrLivArea</th>\n",
       "      <th>TotRmsAbvGrd</th>\n",
       "      <th>GarageType</th>\n",
       "      <th>GarageYrBlt</th>\n",
       "      <th>GarageCars</th>\n",
       "      <th>GarageArea</th>\n",
       "      <th>YrSold</th>\n",
       "      <th>SaleCondition</th>\n",
       "      <th>SalePrice</th>\n",
       "    </tr>\n",
       "  </thead>\n",
       "  <tbody>\n",
       "    <tr>\n",
       "      <th>0</th>\n",
       "      <td>0</td>\n",
       "      <td>1</td>\n",
       "      <td>8450</td>\n",
       "      <td>CollgCr</td>\n",
       "      <td>1Fam</td>\n",
       "      <td>2Story</td>\n",
       "      <td>7</td>\n",
       "      <td>5</td>\n",
       "      <td>2003</td>\n",
       "      <td>GasA</td>\n",
       "      <td>1710</td>\n",
       "      <td>8</td>\n",
       "      <td>Attchd</td>\n",
       "      <td>2003.0</td>\n",
       "      <td>2</td>\n",
       "      <td>548</td>\n",
       "      <td>2008</td>\n",
       "      <td>Normal</td>\n",
       "      <td>208500</td>\n",
       "    </tr>\n",
       "    <tr>\n",
       "      <th>1</th>\n",
       "      <td>1</td>\n",
       "      <td>2</td>\n",
       "      <td>9600</td>\n",
       "      <td>Veenker</td>\n",
       "      <td>1Fam</td>\n",
       "      <td>1Story</td>\n",
       "      <td>6</td>\n",
       "      <td>8</td>\n",
       "      <td>1976</td>\n",
       "      <td>GasA</td>\n",
       "      <td>1262</td>\n",
       "      <td>6</td>\n",
       "      <td>Attchd</td>\n",
       "      <td>1976.0</td>\n",
       "      <td>2</td>\n",
       "      <td>460</td>\n",
       "      <td>2007</td>\n",
       "      <td>Normal</td>\n",
       "      <td>181500</td>\n",
       "    </tr>\n",
       "    <tr>\n",
       "      <th>2</th>\n",
       "      <td>2</td>\n",
       "      <td>3</td>\n",
       "      <td>11250</td>\n",
       "      <td>CollgCr</td>\n",
       "      <td>1Fam</td>\n",
       "      <td>2Story</td>\n",
       "      <td>7</td>\n",
       "      <td>5</td>\n",
       "      <td>2001</td>\n",
       "      <td>GasA</td>\n",
       "      <td>1786</td>\n",
       "      <td>6</td>\n",
       "      <td>Attchd</td>\n",
       "      <td>2001.0</td>\n",
       "      <td>2</td>\n",
       "      <td>608</td>\n",
       "      <td>2008</td>\n",
       "      <td>Normal</td>\n",
       "      <td>223500</td>\n",
       "    </tr>\n",
       "    <tr>\n",
       "      <th>3</th>\n",
       "      <td>3</td>\n",
       "      <td>4</td>\n",
       "      <td>9550</td>\n",
       "      <td>Crawfor</td>\n",
       "      <td>1Fam</td>\n",
       "      <td>2Story</td>\n",
       "      <td>7</td>\n",
       "      <td>5</td>\n",
       "      <td>1915</td>\n",
       "      <td>GasA</td>\n",
       "      <td>1717</td>\n",
       "      <td>7</td>\n",
       "      <td>Detchd</td>\n",
       "      <td>1998.0</td>\n",
       "      <td>3</td>\n",
       "      <td>642</td>\n",
       "      <td>2006</td>\n",
       "      <td>Abnorml</td>\n",
       "      <td>140000</td>\n",
       "    </tr>\n",
       "    <tr>\n",
       "      <th>4</th>\n",
       "      <td>4</td>\n",
       "      <td>5</td>\n",
       "      <td>14260</td>\n",
       "      <td>NoRidge</td>\n",
       "      <td>1Fam</td>\n",
       "      <td>2Story</td>\n",
       "      <td>8</td>\n",
       "      <td>5</td>\n",
       "      <td>2000</td>\n",
       "      <td>GasA</td>\n",
       "      <td>2198</td>\n",
       "      <td>9</td>\n",
       "      <td>Attchd</td>\n",
       "      <td>2000.0</td>\n",
       "      <td>3</td>\n",
       "      <td>836</td>\n",
       "      <td>2008</td>\n",
       "      <td>Normal</td>\n",
       "      <td>250000</td>\n",
       "    </tr>\n",
       "  </tbody>\n",
       "</table>\n",
       "</div>"
      ],
      "text/plain": [
       "   Unnamed: 0  Id  LotArea Neighborhood BldgType HouseStyle  OverallQual  \\\n",
       "0           0   1     8450      CollgCr     1Fam     2Story            7   \n",
       "1           1   2     9600      Veenker     1Fam     1Story            6   \n",
       "2           2   3    11250      CollgCr     1Fam     2Story            7   \n",
       "3           3   4     9550      Crawfor     1Fam     2Story            7   \n",
       "4           4   5    14260      NoRidge     1Fam     2Story            8   \n",
       "\n",
       "   OverallCond  YearBuilt Heating  GrLivArea  TotRmsAbvGrd GarageType  \\\n",
       "0            5       2003    GasA       1710             8     Attchd   \n",
       "1            8       1976    GasA       1262             6     Attchd   \n",
       "2            5       2001    GasA       1786             6     Attchd   \n",
       "3            5       1915    GasA       1717             7     Detchd   \n",
       "4            5       2000    GasA       2198             9     Attchd   \n",
       "\n",
       "   GarageYrBlt  GarageCars  GarageArea  YrSold SaleCondition  SalePrice  \n",
       "0       2003.0           2         548    2008        Normal     208500  \n",
       "1       1976.0           2         460    2007        Normal     181500  \n",
       "2       2001.0           2         608    2008        Normal     223500  \n",
       "3       1998.0           3         642    2006       Abnorml     140000  \n",
       "4       2000.0           3         836    2008        Normal     250000  "
      ]
     },
     "execution_count": 2,
     "metadata": {},
     "output_type": "execute_result"
    }
   ],
   "source": [
    "# read the data\n",
    "data = pd.read_csv(\"train1.csv\")\n",
    "data.head()"
   ]
  },
  {
   "cell_type": "code",
   "execution_count": 3,
   "metadata": {},
   "outputs": [
    {
     "name": "stdout",
     "output_type": "stream",
     "text": [
      "<class 'pandas.core.frame.DataFrame'>\n",
      "RangeIndex: 1460 entries, 0 to 1459\n",
      "Data columns (total 19 columns):\n",
      " #   Column         Non-Null Count  Dtype  \n",
      "---  ------         --------------  -----  \n",
      " 0   Unnamed: 0     1460 non-null   int64  \n",
      " 1   Id             1460 non-null   int64  \n",
      " 2   LotArea        1460 non-null   int64  \n",
      " 3   Neighborhood   1460 non-null   object \n",
      " 4   BldgType       1460 non-null   object \n",
      " 5   HouseStyle     1460 non-null   object \n",
      " 6   OverallQual    1460 non-null   int64  \n",
      " 7   OverallCond    1460 non-null   int64  \n",
      " 8   YearBuilt      1460 non-null   int64  \n",
      " 9   Heating        1460 non-null   object \n",
      " 10  GrLivArea      1460 non-null   int64  \n",
      " 11  TotRmsAbvGrd   1460 non-null   int64  \n",
      " 12  GarageType     1379 non-null   object \n",
      " 13  GarageYrBlt    1379 non-null   float64\n",
      " 14  GarageCars     1460 non-null   int64  \n",
      " 15  GarageArea     1460 non-null   int64  \n",
      " 16  YrSold         1460 non-null   int64  \n",
      " 17  SaleCondition  1460 non-null   object \n",
      " 18  SalePrice      1460 non-null   int64  \n",
      "dtypes: float64(1), int64(12), object(6)\n",
      "memory usage: 216.8+ KB\n"
     ]
    }
   ],
   "source": [
    "# Check for NULL values\n",
    "data.info()"
   ]
  },
  {
   "cell_type": "markdown",
   "metadata": {},
   "source": [
    "### Observation:\n",
    "- GarageType and GarageYrBlt are two features having NULL values"
   ]
  },
  {
   "cell_type": "code",
   "execution_count": 4,
   "metadata": {
    "colab": {},
    "colab_type": "code",
    "id": "B2wjyOO5AZKU"
   },
   "outputs": [
    {
     "data": {
      "text/html": [
       "<div>\n",
       "<style scoped>\n",
       "    .dataframe tbody tr th:only-of-type {\n",
       "        vertical-align: middle;\n",
       "    }\n",
       "\n",
       "    .dataframe tbody tr th {\n",
       "        vertical-align: top;\n",
       "    }\n",
       "\n",
       "    .dataframe thead th {\n",
       "        text-align: right;\n",
       "    }\n",
       "</style>\n",
       "<table border=\"1\" class=\"dataframe\">\n",
       "  <thead>\n",
       "    <tr style=\"text-align: right;\">\n",
       "      <th></th>\n",
       "      <th>Unnamed: 0</th>\n",
       "      <th>Id</th>\n",
       "      <th>LotArea</th>\n",
       "      <th>OverallQual</th>\n",
       "      <th>OverallCond</th>\n",
       "      <th>YearBuilt</th>\n",
       "      <th>GrLivArea</th>\n",
       "      <th>TotRmsAbvGrd</th>\n",
       "      <th>GarageYrBlt</th>\n",
       "      <th>GarageCars</th>\n",
       "      <th>GarageArea</th>\n",
       "      <th>YrSold</th>\n",
       "      <th>SalePrice</th>\n",
       "    </tr>\n",
       "  </thead>\n",
       "  <tbody>\n",
       "    <tr>\n",
       "      <th>count</th>\n",
       "      <td>1460.000000</td>\n",
       "      <td>1460.000000</td>\n",
       "      <td>1460.000000</td>\n",
       "      <td>1460.000000</td>\n",
       "      <td>1460.000000</td>\n",
       "      <td>1460.000000</td>\n",
       "      <td>1460.000000</td>\n",
       "      <td>1460.000000</td>\n",
       "      <td>1379.000000</td>\n",
       "      <td>1460.000000</td>\n",
       "      <td>1460.000000</td>\n",
       "      <td>1460.000000</td>\n",
       "      <td>1460.000000</td>\n",
       "    </tr>\n",
       "    <tr>\n",
       "      <th>mean</th>\n",
       "      <td>729.500000</td>\n",
       "      <td>730.500000</td>\n",
       "      <td>10516.828082</td>\n",
       "      <td>6.099315</td>\n",
       "      <td>5.575342</td>\n",
       "      <td>1971.267808</td>\n",
       "      <td>1515.463699</td>\n",
       "      <td>6.517808</td>\n",
       "      <td>1978.506164</td>\n",
       "      <td>1.767123</td>\n",
       "      <td>472.980137</td>\n",
       "      <td>2007.815753</td>\n",
       "      <td>180921.195890</td>\n",
       "    </tr>\n",
       "    <tr>\n",
       "      <th>std</th>\n",
       "      <td>421.610009</td>\n",
       "      <td>421.610009</td>\n",
       "      <td>9981.264932</td>\n",
       "      <td>1.382997</td>\n",
       "      <td>1.112799</td>\n",
       "      <td>30.202904</td>\n",
       "      <td>525.480383</td>\n",
       "      <td>1.625393</td>\n",
       "      <td>24.689725</td>\n",
       "      <td>0.747315</td>\n",
       "      <td>213.804841</td>\n",
       "      <td>1.328095</td>\n",
       "      <td>79442.502883</td>\n",
       "    </tr>\n",
       "    <tr>\n",
       "      <th>min</th>\n",
       "      <td>0.000000</td>\n",
       "      <td>1.000000</td>\n",
       "      <td>1300.000000</td>\n",
       "      <td>1.000000</td>\n",
       "      <td>1.000000</td>\n",
       "      <td>1872.000000</td>\n",
       "      <td>334.000000</td>\n",
       "      <td>2.000000</td>\n",
       "      <td>1900.000000</td>\n",
       "      <td>0.000000</td>\n",
       "      <td>0.000000</td>\n",
       "      <td>2006.000000</td>\n",
       "      <td>34900.000000</td>\n",
       "    </tr>\n",
       "    <tr>\n",
       "      <th>25%</th>\n",
       "      <td>364.750000</td>\n",
       "      <td>365.750000</td>\n",
       "      <td>7553.500000</td>\n",
       "      <td>5.000000</td>\n",
       "      <td>5.000000</td>\n",
       "      <td>1954.000000</td>\n",
       "      <td>1129.500000</td>\n",
       "      <td>5.000000</td>\n",
       "      <td>1961.000000</td>\n",
       "      <td>1.000000</td>\n",
       "      <td>334.500000</td>\n",
       "      <td>2007.000000</td>\n",
       "      <td>129975.000000</td>\n",
       "    </tr>\n",
       "    <tr>\n",
       "      <th>50%</th>\n",
       "      <td>729.500000</td>\n",
       "      <td>730.500000</td>\n",
       "      <td>9478.500000</td>\n",
       "      <td>6.000000</td>\n",
       "      <td>5.000000</td>\n",
       "      <td>1973.000000</td>\n",
       "      <td>1464.000000</td>\n",
       "      <td>6.000000</td>\n",
       "      <td>1980.000000</td>\n",
       "      <td>2.000000</td>\n",
       "      <td>480.000000</td>\n",
       "      <td>2008.000000</td>\n",
       "      <td>163000.000000</td>\n",
       "    </tr>\n",
       "    <tr>\n",
       "      <th>75%</th>\n",
       "      <td>1094.250000</td>\n",
       "      <td>1095.250000</td>\n",
       "      <td>11601.500000</td>\n",
       "      <td>7.000000</td>\n",
       "      <td>6.000000</td>\n",
       "      <td>2000.000000</td>\n",
       "      <td>1776.750000</td>\n",
       "      <td>7.000000</td>\n",
       "      <td>2002.000000</td>\n",
       "      <td>2.000000</td>\n",
       "      <td>576.000000</td>\n",
       "      <td>2009.000000</td>\n",
       "      <td>214000.000000</td>\n",
       "    </tr>\n",
       "    <tr>\n",
       "      <th>max</th>\n",
       "      <td>1459.000000</td>\n",
       "      <td>1460.000000</td>\n",
       "      <td>215245.000000</td>\n",
       "      <td>10.000000</td>\n",
       "      <td>9.000000</td>\n",
       "      <td>2010.000000</td>\n",
       "      <td>5642.000000</td>\n",
       "      <td>14.000000</td>\n",
       "      <td>2010.000000</td>\n",
       "      <td>4.000000</td>\n",
       "      <td>1418.000000</td>\n",
       "      <td>2010.000000</td>\n",
       "      <td>755000.000000</td>\n",
       "    </tr>\n",
       "  </tbody>\n",
       "</table>\n",
       "</div>"
      ],
      "text/plain": [
       "        Unnamed: 0           Id        LotArea  OverallQual  OverallCond  \\\n",
       "count  1460.000000  1460.000000    1460.000000  1460.000000  1460.000000   \n",
       "mean    729.500000   730.500000   10516.828082     6.099315     5.575342   \n",
       "std     421.610009   421.610009    9981.264932     1.382997     1.112799   \n",
       "min       0.000000     1.000000    1300.000000     1.000000     1.000000   \n",
       "25%     364.750000   365.750000    7553.500000     5.000000     5.000000   \n",
       "50%     729.500000   730.500000    9478.500000     6.000000     5.000000   \n",
       "75%    1094.250000  1095.250000   11601.500000     7.000000     6.000000   \n",
       "max    1459.000000  1460.000000  215245.000000    10.000000     9.000000   \n",
       "\n",
       "         YearBuilt    GrLivArea  TotRmsAbvGrd  GarageYrBlt   GarageCars  \\\n",
       "count  1460.000000  1460.000000   1460.000000  1379.000000  1460.000000   \n",
       "mean   1971.267808  1515.463699      6.517808  1978.506164     1.767123   \n",
       "std      30.202904   525.480383      1.625393    24.689725     0.747315   \n",
       "min    1872.000000   334.000000      2.000000  1900.000000     0.000000   \n",
       "25%    1954.000000  1129.500000      5.000000  1961.000000     1.000000   \n",
       "50%    1973.000000  1464.000000      6.000000  1980.000000     2.000000   \n",
       "75%    2000.000000  1776.750000      7.000000  2002.000000     2.000000   \n",
       "max    2010.000000  5642.000000     14.000000  2010.000000     4.000000   \n",
       "\n",
       "        GarageArea       YrSold      SalePrice  \n",
       "count  1460.000000  1460.000000    1460.000000  \n",
       "mean    472.980137  2007.815753  180921.195890  \n",
       "std     213.804841     1.328095   79442.502883  \n",
       "min       0.000000  2006.000000   34900.000000  \n",
       "25%     334.500000  2007.000000  129975.000000  \n",
       "50%     480.000000  2008.000000  163000.000000  \n",
       "75%     576.000000  2009.000000  214000.000000  \n",
       "max    1418.000000  2010.000000  755000.000000  "
      ]
     },
     "execution_count": 4,
     "metadata": {},
     "output_type": "execute_result"
    }
   ],
   "source": [
    "# Descriptive statistics on Numerical columns\n",
    "data.describe()"
   ]
  },
  {
   "cell_type": "code",
   "execution_count": 5,
   "metadata": {},
   "outputs": [
    {
     "data": {
      "text/plain": [
       "<matplotlib.axes._subplots.AxesSubplot at 0x21f245febb0>"
      ]
     },
     "execution_count": 5,
     "metadata": {},
     "output_type": "execute_result"
    },
    {
     "data": {
      "image/png": "[encoded data removed]",
      "text/plain": [
       "<Figure size 432x288 with 1 Axes>"
      ]
     },
     "metadata": {
      "needs_background": "light"
     },
     "output_type": "display_data"
    }
   ],
   "source": [
    "# Check the distribution of SalePrice\n",
    "data['SalePrice'].hist()"
   ]
  },
  {
   "cell_type": "markdown",
   "metadata": {},
   "source": [
    "### Observation:\n",
    "- SalesPrice data is right skewed"
   ]
  },
  {
   "cell_type": "code",
   "execution_count": 6,
   "metadata": {
    "colab": {},
    "colab_type": "code",
    "id": "P53wNMCTAZKW"
   },
   "outputs": [
    {
     "name": "stdout",
     "output_type": "stream",
     "text": [
      "Probability of picking a house in the Neighborhood of \"OldTown\": 0.077\n"
     ]
    }
   ],
   "source": [
    "# Probability of picking a house in the Neighborhood of \"OldTown\"\n",
    "\n",
    "# Total number of houses\n",
    "all_houses = data.shape[0]\n",
    "\n",
    "# Number of houses in Old Town\n",
    "houses_in_OldTown = data[data['Neighborhood'] == 'OldTown'].shape[0]\n",
    "\n",
    "# Calculate Required probability, i.e. Probability of picking a house in the Neighborood of \"OldTown\"\n",
    "prob = houses_in_OldTown/all_houses\n",
    "print('Probability of picking a house in the Neighborhood of \"OldTown\":', round(prob, 3))"
   ]
  },
  {
   "cell_type": "code",
   "execution_count": 7,
   "metadata": {},
   "outputs": [
    {
     "name": "stdout",
     "output_type": "stream",
     "text": [
      "Probability of picking a house in the Neighborhood of \"NWAmes\": 0.05\n"
     ]
    }
   ],
   "source": [
    "# Probability of picking a house in the Neighborhood of \"NWAmes\"\n",
    "\n",
    "# Total number of houses\n",
    "all_houses = data.shape[0]\n",
    "\n",
    "# Number of houses in Old Town\n",
    "houses_in_NWAmes = data[data['Neighborhood'] == 'NWAmes'].shape[0]\n",
    "\n",
    "# Calculate Required probability, i.e. Probability of picking a house in the Neighborood of \"NWAmes\"\n",
    "prob = houses_in_NWAmes/all_houses\n",
    "print('Probability of picking a house in the Neighborhood of \"NWAmes\":', round(prob, 3))"
   ]
  },
  {
   "cell_type": "code",
   "execution_count": 8,
   "metadata": {},
   "outputs": [
    {
     "name": "stdout",
     "output_type": "stream",
     "text": [
      "Probability of picking a house in the Neighborhood of \"StoneBr\": 0.017\n"
     ]
    }
   ],
   "source": [
    "# Probability of picking a house in the Neighborhood of \"StoneBr\"\n",
    "\n",
    "# Total number of houses\n",
    "all_houses = data.shape[0]\n",
    "\n",
    "# Number of houses in Old Town\n",
    "houses_in_StoneBr = data[data['Neighborhood'] == 'StoneBr'].shape[0]\n",
    "\n",
    "# Calculate Required probability, i.e. Probability of picking a house in the Neighborood of \"StoneBr\"\n",
    "prob = houses_in_StoneBr/all_houses\n",
    "print('Probability of picking a house in the Neighborhood of \"StoneBr\":', round(prob, 3))"
   ]
  },
  {
   "cell_type": "markdown",
   "metadata": {
    "colab_type": "text",
    "id": "9OP3dDh_AZKZ"
   },
   "source": [
    "Thus, from the output above we can state that: \n",
    "\n",
    "At random, the probability of choosing a house from the data set in the \"OldTown\" neighborhood is *0.077*"
   ]
  },
  {
   "cell_type": "markdown",
   "metadata": {
    "colab_type": "text",
    "id": "Pj9a91P_AZKZ"
   },
   "source": [
    "- Having found out the probability of picking a house from the \"OldTown\" neighborhood, let's go little further.\n",
    "\n",
    "\n",
    "- Even though this would be pretty redundant, but when picking **1 by 1**, what would be the probability of first picking a house from the \"OldTown\" neighborhood and then **AGAIN** picking a house from the **SAME** neighborhood? \n",
    "\n",
    "\n",
    "- This is nothing but Conditional Probability!\n",
    "\n",
    "- This might sound a little complicated at first but let's break it down by starting with an easy example! "
   ]
  },
  {
   "cell_type": "markdown",
   "metadata": {
    "colab_type": "text",
    "id": "P5yjXcl-AZKa"
   },
   "source": [
    "## Conditional Probability - Intuition (1/2)\n",
    "***\n",
    "Let's say that we're eating some M&Ms. \n",
    "\n",
    " - There are 10 M&Ms left in the bag: 5 are green, and 5 are blue.\n",
    " \n",
    " - What is the probability of getting 3 blue candies in a row? \n",
    "     - The probability of getting the first blue candy is 5/10, or 1/2. \n",
    "     - When we pick a blue candy, though, we remove it from the bag. We're left with **9** candies in total with (5-1 =)4 Blue ones.\n",
    "     - So the probability of getting another blue is 4/9. \n",
    "     - Similarly, the probability of picking a third blue candy is 3/8\n",
    "     \n",
    "     "
   ]
  },
  {
   "cell_type": "markdown",
   "metadata": {
    "colab_type": "text",
    "id": "tabfpgpsAZKa"
   },
   "source": [
    "## Conditional Probability - Intuition (2/2)\n",
    "***\n",
    "- Since we're calculating the probability of picking 1 Blue Candy AND 1 Blue Candy AND 1 Blue Candy\n",
    "\n",
    "    - Our final probability is 1/2 \\* 4/9 \\* 3/8, or .0833. So, there is an 8.3% chance of picking three blue candies in a row.\n",
    "    \n",
    "    \n",
    "- **Simple tricks**: Whenever you have to *verbally* say AND (like we just did above), you will want to **MULTIPLY** the probabilities\n",
    "\n",
    "\n",
    "- Whenever you have to *verbally* say OR, you will want to **ADD** the probabilities. \n",
    "    "
   ]
  },
  {
   "cell_type": "markdown",
   "metadata": {
    "colab_type": "text",
    "id": "hazdOLgOAZKb"
   },
   "source": [
    "## In-class Activity - Can you solve this on your own? \n",
    "***\n",
    "1) What is the probability of picking a green candy OR a blue candy? <font color='red'>- prob = 1/2 + 1/2 = 1 </font>\n",
    "\n",
    "2) Consider we have 7 green candies and 5 blue candies. What is the probability of picking (one by one, and without replacing) 2 green candies OR 2 blue candies? <font color='red'>- prob = (7/12*6/11) + (5/12*4/11) = 0.47 </font>\n",
    "\n"
   ]
  },
  {
   "cell_type": "markdown",
   "metadata": {
    "colab_type": "text",
    "id": "gmhSxkA8AZKb"
   },
   "source": [
    "## Conditional Probability\n",
    "***\n",
    "To summarize, **Conditional probability is the probability of an  event A occurring, given that B has already occurred.**\n",
    "\n",
    "- It is also denoted by:\n",
    "***\n",
    "![](https://drive.google.com/uc?id=15MH3QA7fIu2vNc_3h_r_iRDn3-cU0eXr)\n"
   ]
  },
  {
   "cell_type": "markdown",
   "metadata": {
    "colab_type": "text",
    "id": "lQafm-e_AZKc"
   },
   "source": [
    "## Conditional Probability\n",
    "***\n",
    "Coming back to calculating probability: \n",
    "\n",
    " - What would be the probability of first picking a house from the \"OldTown\" neighborhood and then **AGAIN** picking a house from the **SAME** neighborhood?\n",
    " \n",
    " - Let's find this out in Python. \n"
   ]
  },
  {
   "cell_type": "code",
   "execution_count": 9,
   "metadata": {
    "colab": {},
    "colab_type": "code",
    "id": "TZigRDUgAZKd"
   },
   "outputs": [
    {
     "name": "stdout",
     "output_type": "stream",
     "text": [
      "Probability with replacement 0.077\n",
      "Probability without replacement 0.077\n"
     ]
    }
   ],
   "source": [
    "# Enter condtional probability code to find the probability of first picking a house from the \"OldTown\" neighborhood\n",
    "# and then AGAIN picking a house from the SAME neighborhood\n",
    "\n",
    "# Total number of houses\n",
    "all_houses = data.shape[0]\n",
    "\n",
    "# Number of houses in Old Town\n",
    "houses_in_OldTown = data[data['Neighborhood'] == 'OldTown'].shape[0]\n",
    "\n",
    "# Calculate Required probability, i.e. Probability of picking a house in the Neighborood of \"OldTown\"\n",
    "prob = houses_in_OldTown/all_houses\n",
    "\n",
    "# with replacement\n",
    "prob_wr = prob\n",
    "print('Probability with replacement', round(prob_wr, 3))\n",
    "\n",
    "# without replacement\n",
    "denominator = all_houses - 1\n",
    "numerator = houses_in_OldTown - 1\n",
    "prob_withoutr = numerator/denominator\n",
    "print('Probability without replacement', round(prob_withoutr, 3))"
   ]
  },
  {
   "cell_type": "markdown",
   "metadata": {
    "colab_type": "text",
    "id": "JQEAOiIkAZKf"
   },
   "source": [
    "## Independent Events\n",
    "***\n",
    "\n",
    "- Two events are independent, one event does not influence the probability of another event.\n",
    "- Two events, A and B are independent if and only if  $P(A and B)=P(A)×P(B)$\n",
    "\n",
    "Some examples of independent events:\n",
    "- Owning a dog and growing your own herb garden.\n",
    "- Paying off your mortgage early and owning a Chevy Cavalier.\n",
    "- Winning the lottery and running out of milk.\n",
    "\n"
   ]
  },
  {
   "cell_type": "markdown",
   "metadata": {
    "colab_type": "text",
    "id": "zLpiIdpiA_L3"
   },
   "source": [
    "## Quiz: Which of the below events Independent?\n",
    "\n",
    "* Robbing a bank and going to Jail.\n",
    "* Taking a cab home and finding your favorite movie on cable.\n",
    "* Buying ten lottery tickets and winning the lottery. \n",
    "* Winning the lottery and running out of milk."
   ]
  },
  {
   "cell_type": "markdown",
   "metadata": {
    "colab_type": "text",
    "id": "3IbfvX_3DOwA"
   },
   "source": [
    "### Solution:-\n",
    "\n",
    "* Robbing a bank and going to Jail. - Dependent\n",
    "* Taking a cab home and finding your favorite movie on cable. - Independent\n",
    "* Buying ten lottery tickets and winning the lottery. - Dependent\n",
    "* Winning the lottery and running out of milk. - Independent"
   ]
  },
  {
   "cell_type": "markdown",
   "metadata": {
    "colab_type": "text",
    "id": "WDe3jd3L_4hz"
   },
   "source": [
    "**Think:-** You flip a coin and roll a die. Let H be the event you flip a heads and let F be the event that you roll a 4. What is P(H ∣ F)?\n",
    "\n",
    "Note: P(H ∣ F) denotes the probability of H occurring given that F occurs."
   ]
  },
  {
   "cell_type": "markdown",
   "metadata": {
    "colab_type": "text",
    "id": "DuZCsYL_AE4T"
   },
   "source": [
    "Explanation:- Because the events are clearly independent, P(H ∣ F)=P(H). That is, the event of the 4 being rolled does not change the probability that the heads is flipped!"
   ]
  },
  {
   "cell_type": "markdown",
   "metadata": {
    "colab_type": "text",
    "id": "TdPTBVuOAZKf"
   },
   "source": [
    "## Dependent or Independent\n",
    "***\n",
    "![](https://drive.google.com/uc?id=1inUJxOx1tAcq_1F-4An8O54FydZMjMrt)"
   ]
  },
  {
   "cell_type": "markdown",
   "metadata": {
    "colab_type": "text",
    "id": "aMyvBcm-AZKg"
   },
   "source": [
    "## Find it out yourself\n",
    "\n",
    "A bag contains 5 red and 5 blue balls. We remove a random ball from the bag, record its colour and put it back into the bag. We then remove another random ball from the bag and record its colour.\n"
   ]
  },
  {
   "cell_type": "markdown",
   "metadata": {
    "colab_type": "text",
    "id": "dhRWWf-wAZKg"
   },
   "source": [
    "### What is the probability that the first ball is red?\n",
    "\n",
    "\n",
    "Since there are a total of 10 balls, of which 5 are red, the probability of getting a red ball is\n",
    "\n",
    "<br>P(first ball red)=5/10=1/2\n"
   ]
  },
  {
   "cell_type": "markdown",
   "metadata": {
    "colab_type": "text",
    "id": "kxXTkTQiAZKh"
   },
   "source": [
    "### What is the probability that the second ball is blue?\n",
    "\n",
    "The problem states that the first ball is placed back into the bag before we take the second ball. This means that when we draw the second ball, there are again a total of 10 balls in the bag, of which 5 are blue. \n",
    "\n",
    "<br>Therefore the probability of drawing a blue ball is\n",
    "P(second ball blue)=5/10=1/2\n"
   ]
  },
  {
   "cell_type": "markdown",
   "metadata": {
    "colab_type": "text",
    "id": "hBx-yT4UAZKh"
   },
   "source": [
    "### What is the probability that the first ball is red and the second ball is blue?\n",
    "\n",
    "When drawing two balls from the bag, there are 4 possibilities. We can get\n",
    "\n",
    "- a red ball and then another red ball;\n",
    "- a red ball and then a blue ball;\n",
    "- a blue ball and then a red ball;\n",
    "- a blue ball and then another blue ball.\n",
    "\n",
    "We want to know the probability of the second outcome, where we have to get a red ball first. Since there are 5 red balls and 10 balls in total, there are 5/10 ways to get a red ball first. Now we put the first ball back, so there are again 5 red balls and 5 blue balls in the bag. \n",
    "\n",
    "\n",
    "<br>Therefore there are 5/10 ways to get a blue ball second if the first ball was red. This means that there are\n",
    "5/10×5/10=25/100 ways to get a red ball first and a blue ball second.\n",
    "\n",
    "\n",
    "<br>So, the probability of getting a red ball first and a blue ball second is 1/4.\n"
   ]
  },
  {
   "cell_type": "markdown",
   "metadata": {
    "colab_type": "text",
    "id": "2r7B_VOjAZKh"
   },
   "source": [
    "#### Are the first ball being red and the second ball being blue independent events?\n",
    "\n",
    "According to the definition, events are independent if and only if\n",
    "P(A and B)=P(A)×P(B)\n",
    "<br>In this problem:\n",
    "\n",
    "- P(first ball red)=1/2\n",
    "- P(second ball blue)=1/2\n",
    "- P(first ball red and second ball blue)=1/4\n",
    "\n",
    "Since 1/4=1/2×1/2, the events are independent."
   ]
  },
  {
   "cell_type": "markdown",
   "metadata": {
    "colab_type": "text",
    "id": "9gJRN4KuAZKi"
   },
   "source": [
    "## In Class-Activity:\n",
    "\n",
    "One hundred people line up to board an aeroplane. Each has a boarding pass with an assigned seat. However, the first person to the board has lost his boarding pass and takes a random seat. After that, each person takes the assigned seat if it is unoccupied, and one of the unoccupied seats at random otherwise. What is the probability that the last person to board gets to sit in his assigned seat?\n"
   ]
  },
  {
   "cell_type": "markdown",
   "metadata": {
    "colab_type": "text",
    "id": "wvTVvDtkAZKj"
   },
   "source": [
    "## Bayes Theorem\n",
    "***\n",
    "![](https://drive.google.com/uc?id=1cOHCZVcflaiiVOWqxEHKWI4sOOX-J80o)\n",
    "\n",
    "Remeber the conditional probability. The conditional probability of event A, given that event B has already occured is given as \n",
    "\n",
    "![](https://drive.google.com/uc?id=1eBWaVFIsP2NNVsScYtDc1dWG3lfrr2Na)\n",
    "\n",
    "\n",
    "Note that P(A∩B) is the probability of both A and B occurring, which is the same as the probability of A occurring times the probability that B occurs given that A occurred: P(B∣A)×P(A). \n",
    "<br>Using the same reasoning, P(A∩B) is also the probability that B occurs times the probability that A occurs given that B occurs: P(A∣B)×P(B). \n",
    "<br>The fact that these two expressions are equal leads to Bayes' Theorem. Expressed mathematically, this is:\n",
    "\n",
    "![](https://drive.google.com/uc?id=1pVejXCOIG38WTI7xn6EzA-KckdHMHFiE)\n",
    "\n"
   ]
  },
  {
   "cell_type": "markdown",
   "metadata": {
    "colab_type": "text",
    "id": "xsvuHA5rAZKj"
   },
   "source": [
    "## Visualizing of Bayes Theorem\n",
    "***\n",
    "Venn diagrams are particularly useful for visualizing Bayes' theorem, since both the diagrams and the theorem are about looking at the intersections of different spaces of events.\n",
    "\n",
    "A disease is present in 5 out of 100 people, and a test that is 90% accurate (meaning that the test produces the correct result in 90% of cases) is administered to 100 people. If one person in the group tests positive, what is the probability that this one person has the disease?\n",
    "\n",
    "The intuitive answer is that the one person is 90% likely to have the disease. But we can visualize this to show that it’s not accurate. First, draw the total population and the 5 people who have the disease:\n",
    "\n",
    "![](https://drive.google.com/uc?id=1NU-A7C8apKB6o22UHo2ZOtR6rNPfhzZZ)\n",
    "\n",
    "The circle A represents 5 out 100, or 5% of the larger universe of 100 people.\n",
    "\n",
    "Next, overlay a circle to represent the people who get a positive result on the test. We know that 90% of those with the disease will get a positive result, so need to cover 90% of circle A, but we also know that 10% of the population who does not have the disease will get a positive result, so we need to cover 10% of the non-disease carrying population (the total universe of 100 less circle A).\n",
    "\n",
    "![](https://drive.google.com/uc?id=1mKlaKK-78wGQVxDitS6wOZJKhYeZl7Fz)\n",
    "\n",
    "Circle B is covering a substantial portion of the total population. It actually covers more area than the total portion of the population with the disease. This is because 14 out of the total population of 100 (90% of the 5 people with the disease + 10% of the 95 people without the disease) will receive a positive result. Even though this is a test with 90% accuracy, this visualization shows that any one patient who tests positive (Circle B) for the disease only has a 32.14% (4.5 in 14) chance of actually having the disease.\n"
   ]
  },
  {
   "cell_type": "markdown",
   "metadata": {
    "colab_type": "text",
    "id": "NAH5avDH91MC"
   },
   "source": [
    "## Find it out Yourself\n",
    "***\n",
    "In general, the probability that it rains on Saturday is 25%.\n",
    "\n",
    "If it rains on Saturday, the probability that it rains on Sunday is 50%. If it does not rain on Saturday, the probability that it rains on Sunday is 25%.\n",
    "\n",
    "Given that it rained on Sunday, what is the probability that it rained on Saturday?"
   ]
  },
  {
   "cell_type": "code",
   "execution_count": 10,
   "metadata": {
    "slideshow": {
     "slide_type": "notes"
    }
   },
   "outputs": [
    {
     "ename": "SyntaxError",
     "evalue": "invalid syntax (<ipython-input-10-513f4867f55b>, line 4)",
     "output_type": "error",
     "traceback": [
      "\u001b[1;36m  File \u001b[1;32m\"<ipython-input-10-513f4867f55b>\"\u001b[1;36m, line \u001b[1;32m4\u001b[0m\n\u001b[1;33m    P(sat|sun) = P(sun|sat)P(sat)/P(sun)\u001b[0m\n\u001b[1;37m                           ^\u001b[0m\n\u001b[1;31mSyntaxError\u001b[0m\u001b[1;31m:\u001b[0m invalid syntax\n"
     ]
    }
   ],
   "source": [
    "P(sat) = 0.25\n",
    "P(sun | sat) = 0.5\n",
    "P(sun | ~sat) = 0.25\n",
    "P(sat | sun) = P(sun | sat)P(sat)/P(sun)\n",
    "OR\n",
    "P(sat | sun) = P(sun | sat)P(sat)/[P(sun | sat)P(sat)+P(sun | ~sat)P(~sat)]"
   ]
  },
  {
   "cell_type": "code",
   "execution_count": 11,
   "metadata": {},
   "outputs": [
    {
     "ename": "SyntaxError",
     "evalue": "invalid syntax (<ipython-input-11-1da80481508a>, line 1)",
     "output_type": "error",
     "traceback": [
      "\u001b[1;36m  File \u001b[1;32m\"<ipython-input-11-1da80481508a>\"\u001b[1;36m, line \u001b[1;32m1\u001b[0m\n\u001b[1;33m    Data Science Use Case\u001b[0m\n\u001b[1;37m         ^\u001b[0m\n\u001b[1;31mSyntaxError\u001b[0m\u001b[1;31m:\u001b[0m invalid syntax\n"
     ]
    }
   ],
   "source": [
    "Data Science Use Case\n",
    "\n",
    "Spam filtering - Eail is Spam or Not Spam\n",
    "\n",
    "Spam Email\n",
    "discount, lottery, free, attention, win, offer, loan\n",
    "\n",
    "Non spam email\n",
    "discussion, meeting, agenda, review, schedule\n",
    "\n",
    "Class - Spam, ~Spam\n",
    "\n",
    "Email - classify as spam or not spam\n",
    "P(spam | content)\n",
    "\n",
    "few spam and non spam emails(discount, discussion)\n",
    "\n",
    "Spam: p(discount | spam) = no of emails having word discount/total no of spam emails\n",
    "Not Spam: p(discussion | spam) = no of emails having word discussion/total no of not spam emails\n",
    "\n",
    "P(content | spam)\n",
    "\n",
    "P(spam) = total no of spam emails/total no of emails\n",
    "\n",
    "p1 = P(spam | content) = P(content | spam)P(spam)/P(content)\n",
    "p2 = P(not spam | content) = P(content | not spam)P(not spam)/P(content)\n",
    "\n",
    "p1 > p2 - -> Spam\n",
    "p1 < p2 - -> Not Spam"
   ]
  },
  {
   "cell_type": "markdown",
   "metadata": {
    "colab_type": "text",
    "id": "SrMlZPjuBd0T"
   },
   "source": [
    "**Explanation:-** \n",
    "![](https://drive.google.com/uc?id=1Mj4tcMb3cYD1hu0TEm4FE7g5RjAz5Nsa)"
   ]
  },
  {
   "cell_type": "markdown",
   "metadata": {
    "colab_type": "text",
    "id": "n0cWxosJAZKj"
   },
   "source": [
    "## A classic example: The famous Monty Hall Problem\n",
    "***\n",
    "\n",
    "You’re on a game show, and you’re given the choice of three doors: Behind one door is a car; behind the others, goats. You pick a door, say No. 1, and the host, who knows what’s behind the doors, opens another door, say No. 3, which has a goat. He then says to you, “Do you want to pick door No. 2?” Is it to your advantage to switch your choice? Will you switch or stay with your door?\n",
    "\n",
    "[Monty Hall Problem Explained](https://betterexplained.com/articles/understanding-the-monty-hall-problem/)\n"
   ]
  },
  {
   "cell_type": "markdown",
   "metadata": {
    "colab_type": "text",
    "id": "ZatCGkoUAZKk"
   },
   "source": [
    "## Random Variable\n",
    "***\n",
    "A random variable, usually written $X$, is a variable whose possible values are numerical outcomes of a random phenomenon. There are two types of random variables, discrete and continuous.\n",
    "\n",
    " - A **discrete variable** is a variable whose value is obtained by counting\n",
    "    - Examples:  number of students present, number of red marbles in a jar, number of heads when flipping three coins\n",
    "    \n",
    " \n",
    " - A **continuous variable** is a variable whose value is obtained by measuring\n",
    "    - Examples: height of students in class, weight of students in class, time it takes to get to school, distance traveled between classes\n",
    "    \n",
    "- The probability function for a discrete random variable is the `probability mass function` and similarly if our random variable takes continuous values it is called a `probability density function`\n",
    "\n",
    "\n"
   ]
  },
  {
   "cell_type": "markdown",
   "metadata": {
    "colab_type": "text",
    "id": "e_NV-YrrCKEN"
   },
   "source": [
    "## Quiz: Discrete or Continuous?\n",
    "\n",
    "* Number of printing mistakes in a book.\n",
    "* Profit earned by the company.\n",
    "* The number of defective parts.\n",
    "* The proportion of defective parts."
   ]
  },
  {
   "cell_type": "markdown",
   "metadata": {
    "colab_type": "text",
    "id": "yvznTRu8AZKk"
   },
   "source": [
    "## Some Basic Concepts \n",
    "***\n",
    " \n",
    " - We know what the outcome of an experiment is. \n",
    " \n",
    " - Now, depending on the experiment, our outcome can have a range of possible values \n",
    " \n",
    " - Each value has a specific, probability assigned to it. These probabilities may or may not be equal to one another\n",
    " \n",
    " - Now, like always, there is a Statistical Function that describes these values within a given range\n",
    " \n",
    " - This is nothing but the Probability Distribution of the event\n",
    " \n",
    " - Confused? You're not the first..\n",
    " \n",
    " - Let's try and build some intuition with an easy example"
   ]
  },
  {
   "cell_type": "markdown",
   "metadata": {
    "colab_type": "text",
    "id": "rMAEMZSjAZKl"
   },
   "source": [
    "## Simple Probability Distribution\n",
    "***\n",
    " -  Lets try and plot a simple probability distribution\n",
    " \n",
    " - Let a random variable X be the sum of two fair six sided dice throws\n",
    " \n",
    " - X can take values (2, 3, 4, 5, 6, 7, 8, 9, 10, 11, 12)\n",
    " \n",
    " - Can you figure our the proability of each value of X? "
   ]
  },
  {
   "cell_type": "markdown",
   "metadata": {
    "colab_type": "text",
    "id": "gX8GzO9cAZKl"
   },
   "source": [
    "## Simple Probability Distribution\n",
    "***\n",
    "- There are 6 possibilities in the first throw (we can get any number). We can get any no. from 1 to 6 \n",
    "\n",
    "- 6 in the second\n",
    "\n",
    "- Total no. of Combinations = 6\\*6 = 36"
   ]
  },
  {
   "cell_type": "markdown",
   "metadata": {
    "colab_type": "text",
    "id": "g8eQNpQ1AZKl"
   },
   "source": [
    "Let’s see how:\n",
    "2{(1,1)}  => 1/36\n",
    "\n",
    "3{(1,2),(2,1)} => 2/36\n",
    "\n",
    "4{(2,2),(3,1),(1,3)} => 3/36\n",
    "\n",
    "5{(1,4),(4,1),(2,3),(3,2)} => 4/36\n",
    "\n",
    "6{(3,3),(1,5),(5,1),(2,4),(4,2)} => 5/36\n",
    "\n",
    "7{(1,6),(6,1),(2,5),(5,2),(3,4),(4,3)} => 6/36\n",
    "\n",
    "8{(2,6),(6,2),(3,5),(5,3),(4,4)} => 5/36\n",
    "\n",
    "9{(3,6),(6,3),(5,4),(4,5)} => 4/36\n",
    "\n",
    "10{(4,6),(6,4),(5,5)} => 3/36\n",
    "\n",
    "11{(5,6),(6,5)} => 2/36\n",
    "\n",
    "12{(6,6)} = > 1/36\n",
    "\n"
   ]
  },
  {
   "cell_type": "markdown",
   "metadata": {
    "colab_type": "text",
    "id": "-XPHo2oGAZKm"
   },
   "source": [
    "## Plotting our results\n",
    "When we plot the values [2,12] on the x-axis vs. the probability of getting each of these values as our Outcome we see the following: \n",
    "***\n",
    "![](https://drive.google.com/uc?id=1PCRE9wISmaYr1R4MfXOlAKzIhpW9Erwm)\n",
    " \n"
   ]
  },
  {
   "cell_type": "markdown",
   "metadata": {
    "colab_type": "text",
    "id": "UD3hL40tAZKm"
   },
   "source": [
    " - We just plotted the Probability Mass Function of a Discrete Random Variable (X which is the sum of two fair dies)\n",
    " \n",
    " - We will now take a look at some of these general probability distributions which are widely used in statistical computations."
   ]
  },
  {
   "cell_type": "markdown",
   "metadata": {
    "colab_type": "text",
    "id": "LqR7Vg31AZKn"
   },
   "source": [
    "## Binomial Distribution \n",
    "***\n",
    "\n",
    "* The experiment consists of n repeated trials.\n",
    "* Each trial can result in just two possible outcomes. We call one of these outcomes a success and the other, a failure.\n",
    "* The probability of success, denoted by P, is the same on every trial.\n",
    "* The trials are independent; that is, the outcome on one trial does not affect the outcome on other trials.\n"
   ]
  },
  {
   "cell_type": "markdown",
   "metadata": {
    "colab_type": "text",
    "id": "cAGWH-QYd3sv"
   },
   "source": [
    "## Math behind Binomial Distribution\n",
    "***\n",
    "The probability of x successes in n independent trials is given by the formula:\n",
    "\n",
    "![](https://drive.google.com/uc?id=1HMYH7oc_JTkj_rq3sVSWTAnwnW9ZTJFs)\n",
    "\n",
    "The mean and standard deviation of a binomial distribution are stated below.\n",
    "\n",
    "![](https://drive.google.com/uc?id=1WQlzNrODNmsDSArgtN0jZRFsTlfzEaIA)"
   ]
  },
  {
   "cell_type": "markdown",
   "metadata": {
    "colab_type": "text",
    "id": "cEvBUlY0d3d9"
   },
   "source": [
    "## Visualization of Binomial Distribution"
   ]
  },
  {
   "cell_type": "code",
   "execution_count": 12,
   "metadata": {
    "colab": {
     "base_uri": "https://localhost:8080/",
     "height": 315
    },
    "colab_type": "code",
    "executionInfo": {
     "elapsed": 953,
     "status": "ok",
     "timestamp": 1592602958759,
     "user": {
      "displayName": "Satyapriya Chaudhari",
      "photoUrl": "https://lh3.googleusercontent.com/a-/AOh14GiwqGWH8rItAiQcXo2XqlnRlLD_bHd12hqXzQ0qlg=s64",
      "userId": "15909927639307960054"
     },
     "user_tz": -330
    },
    "id": "G2tuFGZYgaEg",
    "outputId": "75040d1e-da7e-48fd-eb6c-aeba82555ab5"
   },
   "outputs": [
    {
     "name": "stdout",
     "output_type": "stream",
     "text": [
      "[ 3  5  5  6  5  5 10  6  6  4  5  5  6  2  5  4  6  4  5  4  5  6  4  5\n",
      "  6  3  5  4  7  4  6  5  3  4  5  4  5  2  3  5  5  3  8  6  6  6  5  7\n",
      "  4  6  4  6  3  4  7  5  8  4  6  7  7  4  5  7  7  7  1  7  5  6  5  7\n",
      "  2  6  7  4  4  4  6  4  6  5  4  4  4  8  7  4  4  4  4  8  3  5  6  5\n",
      "  5  6  5  3]\n"
     ]
    },
    {
     "data": {
      "image/png": "[encoded data removed]",
      "text/plain": [
       "<Figure size 432x288 with 1 Axes>"
      ]
     },
     "metadata": {
      "needs_background": "light"
     },
     "output_type": "display_data"
    }
   ],
   "source": [
    "from numpy import random\n",
    "import matplotlib.pyplot as plt\n",
    "import seaborn as sns\n",
    "\n",
    "# result of flipping a coin 10 times, tested 1000 times\n",
    "print(random.binomial(n=10, p=0.5, size=100))\n",
    "sns.distplot(random.binomial(n=10, p=0.5, size=1000), hist=True, kde=False)\n",
    "\n",
    "plt.show()"
   ]
  },
  {
   "cell_type": "markdown",
   "metadata": {
    "colab_type": "text",
    "id": "xILa3nKJAZKn"
   },
   "source": [
    "\n",
    "## Normal Distribution (1/4)\n",
    "***\n",
    " - Data can be \"distributed\" (spread out) in different ways\n",
    "***\n",
    "![](https://drive.google.com/uc?id=1CEZhkvwMLLoKH8mQU0OnHPk308XAgk2g)\n"
   ]
  },
  {
   "cell_type": "markdown",
   "metadata": {
    "colab_type": "text",
    "id": "-Iiv3h1zAZKn"
   },
   "source": [
    "\n",
    "## Normal Distribution (2/4)\n",
    "***\n",
    " - But there are many cases where the data tends to be around a central value with no bias left or right, and it gets close to a \"Normal Distribution\" like this:\n",
    "***\n",
    "![](https://drive.google.com/uc?id=17DGqCkDqS6sG-PGfMiMi9bMVzGgtdEWL)\n"
   ]
  },
  {
   "cell_type": "markdown",
   "metadata": {
    "colab_type": "text",
    "id": "K9v62bFKAZKo"
   },
   "source": [
    "\n",
    "## Normal Distribution (3/4)\n",
    "***\n",
    " - It is known as a \"Bell Curve\" because it literally looks like a bell\n",
    " \n",
    " - Many things closely follow a Normal Distribution:\n",
    "    - heights of people\n",
    "    - size of things produced by machines\n",
    "    - errors in measurements\n",
    "    - blood pressure\n",
    "    - marks on a test"
   ]
  },
  {
   "cell_type": "markdown",
   "metadata": {
    "colab_type": "text",
    "id": "jHSsm27qAZKo"
   },
   "source": [
    "\n",
    "## Normal Distribution (4/4)\n",
    "***\n",
    " - We say that the data is \"Normally Distributed\" \n",
    " \n",
    " - The Normal Distribution has:\n",
    "    - mean = median = mode\n",
    "    - symmetry about the center\n",
    "    - 50% of values less than the mean \n",
    "    - and 50% greater than the mean\n",
    "    - The total area under the curve is 1."
   ]
  },
  {
   "cell_type": "markdown",
   "metadata": {
    "colab_type": "text",
    "id": "6O5dModvAZKp"
   },
   "source": [
    "\n",
    "## Normal Distribution\n",
    "***\n",
    "\n",
    "![](https://drive.google.com/uc?id=1o_GHb4HBInC10Oaqxto7_RdPCiLuSGvX)\n",
    " "
   ]
  },
  {
   "cell_type": "markdown",
   "metadata": {
    "colab_type": "text",
    "id": "yKWdtE4aAZKp"
   },
   "source": [
    "## Normal Distributions and Standard Deviations\n",
    "***\n",
    " - Yesterday we learnt about Standard Deviation and how it's the most commonly used measure of how spread out observations of our data are\n",
    " \n",
    " - When we calculate the standard deviation we find that (generally):\n",
    " \n",
    "    - 68% of values are within 1 standard deviation\tof the mean\n",
    "    - 95% of values are within 2 standard deviations of the mean\n",
    "    - 99.7% of values are within 3 standard deviations of the mean"
   ]
  },
  {
   "cell_type": "markdown",
   "metadata": {
    "colab_type": "text",
    "id": "trRraJBZAZKp"
   },
   "source": [
    "![](https://drive.google.com/uc?id=1owmXwfu2cnAlOK0fiyBHLb4mrGGAJG55)"
   ]
  },
  {
   "cell_type": "markdown",
   "metadata": {
    "colab_type": "text",
    "id": "qLcc0g4oAZKq"
   },
   "source": [
    "\n",
    "## Math behind the Normal Distribution\n",
    "***\n",
    "- So how do we get a Bell Curve? \n",
    "- As discussed before, there is a Statistical Function that describes it's shape, just like any other graph in Mathematics\n",
    "\n",
    " ***\n",
    "![](https://drive.google.com/uc?id=1fWsoIcdeD0TPADHiWdXFZkZGX4KQRODl)"
   ]
  },
  {
   "cell_type": "markdown",
   "metadata": {
    "colab_type": "text",
    "id": "rl1oiZZdAZKq"
   },
   "source": [
    "## Looking at House Price Data \n",
    "***\n",
    " - We know that John had the SalePrice data of the 1460 houses in Brooklyn\n",
    " \n",
    " - Let's plot a graph that shows us the SalePrice vs. the Frequency of that Price\n",
    " \n",
    " - Work it out in Python"
   ]
  },
  {
   "cell_type": "code",
   "execution_count": 13,
   "metadata": {
    "colab": {},
    "colab_type": "code",
    "id": "zYX87KvCAZKr"
   },
   "outputs": [
    {
     "data": {
      "text/plain": [
       "<matplotlib.axes._subplots.AxesSubplot at 0x21f25d3a8e0>"
      ]
     },
     "execution_count": 13,
     "metadata": {},
     "output_type": "execute_result"
    },
    {
     "data": {
      "image/png": "[encoded data removed]",
      "text/plain": [
       "<Figure size 432x288 with 1 Axes>"
      ]
     },
     "metadata": {
      "needs_background": "light"
     },
     "output_type": "display_data"
    }
   ],
   "source": [
    "# Visualize the distribution of SalePrice using distplot of the seaborn library\n",
    "sns.distplot(data['SalePrice'])"
   ]
  },
  {
   "cell_type": "markdown",
   "metadata": {
    "colab_type": "text",
    "id": "z1ZObVc6AZKu"
   },
   "source": [
    "## Thoughts \n",
    "***\n",
    "The distribution is for our target variable aka SalePrice doesn't resemble a normal distribution, it is skewed to the left\n",
    "\n",
    " - This makes some sense since we already saw yesterday that we had a lot of Outliers on the upper-end of the Price scale\n",
    " \n",
    " - If you were to remove the outliers, it'd somewhat resemble a Normal Dstribution"
   ]
  },
  {
   "cell_type": "markdown",
   "metadata": {
    "colab_type": "text",
    "id": "t0qn4MeZAZKu"
   },
   "source": [
    "## The Concept of Z-score (1/5)\n",
    "***\n",
    " - The number of standard deviations from the mean is also called the \"Standard Score\", \"sigma\" or \"z-score\". Get used to those words!\n",
    " "
   ]
  },
  {
   "cell_type": "markdown",
   "metadata": {
    "colab_type": "text",
    "id": "w6TyD7EFAZKu"
   },
   "source": [
    "## The Concept of Z-score (2/5)\n",
    "***\n",
    "- As usual, let's build our intution with an Example\n",
    "    - Consider that we're analyzing data of the heights (in meters) of students in a school \n",
    "    - The data is normally distributed as shown below:\n",
    " ***\n",
    "![](https://drive.google.com/uc?id=1pf8qZLg8x9kI2-BAP34n4ekaj2njXRGV)"
   ]
  },
  {
   "cell_type": "markdown",
   "metadata": {
    "colab_type": "text",
    "id": "5PioyPFxAZKv"
   },
   "source": [
    "\n",
    "## The Concept of Z-score (3/5)\n",
    "***\n",
    " - We can see that the mean = 1.4 meters\n",
    " - In that same school one of your friends is 1.85m tall\n",
    " - You can see on the bell curve that 1.85m is 3 standard deviations from the mean of 1.4, so:\n",
    " - **Your friend's height has a \"z-score\" of 3.0**\n",
    " \n"
   ]
  },
  {
   "cell_type": "markdown",
   "metadata": {
    "colab_type": "text",
    "id": "ryfmc1SEAZKw"
   },
   "source": [
    "## The Concept of Z-score (4/5)\n",
    "***\n",
    " - It is also possible to calculate how many standard deviations 1.85 is from the mean\n",
    "      - How far is 1.85 from the mean?\n",
    "      - It is 1.85 - 1.4 = 0.45m from the mean\n",
    " \n",
    " - Say that the Std. Dev. is pre-calculated and is = 0.15m\n",
    " \n",
    " - How many standard deviations is is it from the mean? The standard deviation is 0.15m, so:\n",
    "\n",
    "     - = 0.45m / 0.15m = 3 standard deviations"
   ]
  },
  {
   "cell_type": "markdown",
   "metadata": {
    "colab_type": "text",
    "id": "wq2xJZhAAZKw"
   },
   "source": [
    "## The Concept of Z-score (5/5)\n",
    "***\n",
    "So to convert a value to a Standard Score (\"z-score\"):\n",
    "\n",
    " - first subtract the mean,\n",
    " - then divide by the Standard Deviation\n",
    "\n",
    "And doing that is called \"Standardizing\":\n",
    " ***\n",
    "![](https://drive.google.com/uc?id=1WEPJxkSWzvQ-OfD7bM-PulzSDKw49edX)\n"
   ]
  },
  {
   "cell_type": "markdown",
   "metadata": {
    "colab_type": "text",
    "id": "Gn6HnLLzAZKw"
   },
   "source": [
    "## In Class Activity\n",
    "***\n",
    "Example: Travel Time\n",
    "\n",
    "A survey of daily travel time had these results (in minutes):\n",
    "\n",
    "26, 33, 65, 28, 34, 55, 25, 44, 50, 36, 26, 37, 43, 62, 35, 38, 45, 32, 28, 34\n",
    "\n",
    "Convert the values to z-scores (\"standard scores\").\n",
    "\n",
    "Don't forget:\n",
    " ***\n",
    "![](https://drive.google.com/uc?id=1BFQfTJgQJsv7xMEUb63ZpL8LPE3Orv8D)\n"
   ]
  },
  {
   "cell_type": "code",
   "execution_count": 25,
   "metadata": {
    "colab": {},
    "colab_type": "code",
    "id": "Dx5jtHdiEg9h"
   },
   "outputs": [
    {
     "name": "stdout",
     "output_type": "stream",
     "text": [
      "Average Time 38.8\n",
      "Standard Deviation 11.4\n",
      "[-1.12, -0.51, 2.3, -0.95, -0.42, 1.42, -1.21, 0.46, 0.98, -0.25, -1.12, -0.16, 0.37, 2.04, -0.33, -0.07, 0.54, -0.6, -0.95, -0.42]\n"
     ]
    }
   ],
   "source": [
    "import statistics\n",
    "\n",
    "time = [26, 33, 65, 28, 34, 55, 25, 44, 50,\n",
    "        36, 26, 37, 43, 62, 35, 38, 45, 32, 28, 34]\n",
    "\n",
    "# Calculate the average time\n",
    "avg_time = round(sum(time)/len(time), 2)\n",
    "print(\"Average Time\", avg_time)\n",
    "\n",
    "# Calculate the std dev of time\n",
    "sd_time = round(np.std(time), 2)\n",
    "print(\"Standard Deviation\", sd_time)\n",
    "\n",
    "# Calculate and print the z_scores\n",
    "z_scores = [round((i-avg_time)/sd_time, 2) for i in time]\n",
    "print(z_scores)"
   ]
  },
  {
   "cell_type": "markdown",
   "metadata": {
    "colab_type": "text",
    "id": "s6SModTuDpg9"
   },
   "source": [
    "## Activity 1\n",
    "***\n",
    "The dataset specifically focuses on the Banking, Debt, Financial, Inflation and Systemic Crises that occurred, from 1860 to 2014, in 13 African countries, including: Algeria, Angola, Central African Republic, Ivory Coast, Egypt, Kenya, Mauritius, Morocco, Nigeria, South Africa, Tunisia, Zambia and Zimbabwe.\n",
    "We have, with us, more than 1000 data points. \n",
    "\n",
    "Find the probability of\n",
    "\n",
    "\n",
    "*   the probability of `banking_crisis`\n",
    "*   the probability of `systemic_crisis`\n",
    "*   the probability of `banking_crisis` for `Egypt`.\n",
    "*   the probability of `banking_crisis` given that `systemic_crisis`has already occurred\n",
    "*   the probability of `banking_crisis` given that `inflation_crises`has already occurred\n",
    "*   using the probabilities calculated above, and Bayes Theorem, find the probability of `systemic_crisis` given that `banking_crisis` has already occurred\n",
    "\n"
   ]
  },
  {
   "cell_type": "code",
   "execution_count": 26,
   "metadata": {
    "colab": {
     "base_uri": "https://localhost:8080/",
     "height": 215
    },
    "colab_type": "code",
    "executionInfo": {
     "elapsed": 919,
     "status": "ok",
     "timestamp": 1592601131695,
     "user": {
      "displayName": "Satyapriya Chaudhari",
      "photoUrl": "https://lh3.googleusercontent.com/a-/AOh14GiwqGWH8rItAiQcXo2XqlnRlLD_bHd12hqXzQ0qlg=s64",
      "userId": "15909927639307960054"
     },
     "user_tz": -330
    },
    "id": "36obuGMAF1j4",
    "outputId": "d0603817-1c3e-4bec-d00d-01df9f10c27a"
   },
   "outputs": [
    {
     "data": {
      "text/html": [
       "<div>\n",
       "<style scoped>\n",
       "    .dataframe tbody tr th:only-of-type {\n",
       "        vertical-align: middle;\n",
       "    }\n",
       "\n",
       "    .dataframe tbody tr th {\n",
       "        vertical-align: top;\n",
       "    }\n",
       "\n",
       "    .dataframe thead th {\n",
       "        text-align: right;\n",
       "    }\n",
       "</style>\n",
       "<table border=\"1\" class=\"dataframe\">\n",
       "  <thead>\n",
       "    <tr style=\"text-align: right;\">\n",
       "      <th></th>\n",
       "      <th>case</th>\n",
       "      <th>cc3</th>\n",
       "      <th>country</th>\n",
       "      <th>year</th>\n",
       "      <th>systemic_crisis</th>\n",
       "      <th>exch_usd</th>\n",
       "      <th>domestic_debt_in_default</th>\n",
       "      <th>sovereign_external_debt_default</th>\n",
       "      <th>gdp_weighted_default</th>\n",
       "      <th>inflation_annual_cpi</th>\n",
       "      <th>independence</th>\n",
       "      <th>currency_crises</th>\n",
       "      <th>inflation_crises</th>\n",
       "      <th>banking_crisis</th>\n",
       "    </tr>\n",
       "  </thead>\n",
       "  <tbody>\n",
       "    <tr>\n",
       "      <th>0</th>\n",
       "      <td>1</td>\n",
       "      <td>DZA</td>\n",
       "      <td>Algeria</td>\n",
       "      <td>1870</td>\n",
       "      <td>1</td>\n",
       "      <td>0.052264</td>\n",
       "      <td>0</td>\n",
       "      <td>0</td>\n",
       "      <td>0.0</td>\n",
       "      <td>3.441456</td>\n",
       "      <td>0</td>\n",
       "      <td>0</td>\n",
       "      <td>0</td>\n",
       "      <td>crisis</td>\n",
       "    </tr>\n",
       "    <tr>\n",
       "      <th>1</th>\n",
       "      <td>1</td>\n",
       "      <td>DZA</td>\n",
       "      <td>Algeria</td>\n",
       "      <td>1871</td>\n",
       "      <td>0</td>\n",
       "      <td>0.052798</td>\n",
       "      <td>0</td>\n",
       "      <td>0</td>\n",
       "      <td>0.0</td>\n",
       "      <td>14.149140</td>\n",
       "      <td>0</td>\n",
       "      <td>0</td>\n",
       "      <td>0</td>\n",
       "      <td>no_crisis</td>\n",
       "    </tr>\n",
       "    <tr>\n",
       "      <th>2</th>\n",
       "      <td>1</td>\n",
       "      <td>DZA</td>\n",
       "      <td>Algeria</td>\n",
       "      <td>1872</td>\n",
       "      <td>0</td>\n",
       "      <td>0.052274</td>\n",
       "      <td>0</td>\n",
       "      <td>0</td>\n",
       "      <td>0.0</td>\n",
       "      <td>-3.718593</td>\n",
       "      <td>0</td>\n",
       "      <td>0</td>\n",
       "      <td>0</td>\n",
       "      <td>no_crisis</td>\n",
       "    </tr>\n",
       "    <tr>\n",
       "      <th>3</th>\n",
       "      <td>1</td>\n",
       "      <td>DZA</td>\n",
       "      <td>Algeria</td>\n",
       "      <td>1873</td>\n",
       "      <td>0</td>\n",
       "      <td>0.051680</td>\n",
       "      <td>0</td>\n",
       "      <td>0</td>\n",
       "      <td>0.0</td>\n",
       "      <td>11.203897</td>\n",
       "      <td>0</td>\n",
       "      <td>0</td>\n",
       "      <td>0</td>\n",
       "      <td>no_crisis</td>\n",
       "    </tr>\n",
       "    <tr>\n",
       "      <th>4</th>\n",
       "      <td>1</td>\n",
       "      <td>DZA</td>\n",
       "      <td>Algeria</td>\n",
       "      <td>1874</td>\n",
       "      <td>0</td>\n",
       "      <td>0.051308</td>\n",
       "      <td>0</td>\n",
       "      <td>0</td>\n",
       "      <td>0.0</td>\n",
       "      <td>-3.848561</td>\n",
       "      <td>0</td>\n",
       "      <td>0</td>\n",
       "      <td>0</td>\n",
       "      <td>no_crisis</td>\n",
       "    </tr>\n",
       "  </tbody>\n",
       "</table>\n",
       "</div>"
      ],
      "text/plain": [
       "   case  cc3  country  year  systemic_crisis  exch_usd  \\\n",
       "0     1  DZA  Algeria  1870                1  0.052264   \n",
       "1     1  DZA  Algeria  1871                0  0.052798   \n",
       "2     1  DZA  Algeria  1872                0  0.052274   \n",
       "3     1  DZA  Algeria  1873                0  0.051680   \n",
       "4     1  DZA  Algeria  1874                0  0.051308   \n",
       "\n",
       "   domestic_debt_in_default  sovereign_external_debt_default  \\\n",
       "0                         0                                0   \n",
       "1                         0                                0   \n",
       "2                         0                                0   \n",
       "3                         0                                0   \n",
       "4                         0                                0   \n",
       "\n",
       "   gdp_weighted_default  inflation_annual_cpi  independence  currency_crises  \\\n",
       "0                   0.0              3.441456             0                0   \n",
       "1                   0.0             14.149140             0                0   \n",
       "2                   0.0             -3.718593             0                0   \n",
       "3                   0.0             11.203897             0                0   \n",
       "4                   0.0             -3.848561             0                0   \n",
       "\n",
       "   inflation_crises banking_crisis  \n",
       "0                 0         crisis  \n",
       "1                 0      no_crisis  \n",
       "2                 0      no_crisis  \n",
       "3                 0      no_crisis  \n",
       "4                 0      no_crisis  "
      ]
     },
     "execution_count": 26,
     "metadata": {},
     "output_type": "execute_result"
    }
   ],
   "source": [
    "import pandas as pd\n",
    "\n",
    "df = pd.read_csv(\"data.csv\")\n",
    "df.head()"
   ]
  },
  {
   "cell_type": "code",
   "execution_count": 29,
   "metadata": {
    "colab": {},
    "colab_type": "code",
    "id": "O7fuuK6Oaes8"
   },
   "outputs": [
    {
     "name": "stdout",
     "output_type": "stream",
     "text": [
      "Probability of Banking Crisis =  0.09\n"
     ]
    }
   ],
   "source": [
    "# Probability of banking_crisis\n",
    "\n",
    "prob_bc = df[df['banking_crisis'] == 'crisis'].shape[0]/df.shape[0]\n",
    "print(\"Probability of Banking Crisis = \", round(prob_bc, 2))"
   ]
  },
  {
   "cell_type": "code",
   "execution_count": 30,
   "metadata": {
    "colab": {},
    "colab_type": "code",
    "id": "-zhu5J8FbgPd"
   },
   "outputs": [
    {
     "name": "stdout",
     "output_type": "stream",
     "text": [
      "Probability of Systemic Crisis =  0.08\n"
     ]
    }
   ],
   "source": [
    "# Probability of systemic_crisis\n",
    "\n",
    "prob_sc = df[df['systemic_crisis'] == 1].shape[0]/df.shape[0]\n",
    "print(\"Probability of Systemic Crisis = \", round(prob_sc, 2))"
   ]
  },
  {
   "cell_type": "code",
   "execution_count": 31,
   "metadata": {
    "colab": {},
    "colab_type": "code",
    "id": "xsYu0vwmF171"
   },
   "outputs": [
    {
     "name": "stdout",
     "output_type": "stream",
     "text": [
      "The probability of banking_crisis for Egypt =  0.01\n"
     ]
    }
   ],
   "source": [
    "# The probability of banking_crisis for Egypt\n",
    "\n",
    "prob_bc_Egypt = df[(df['banking_crisis'] == 'crisis') & (\n",
    "    df['country'] == 'Egypt')].shape[0]/df.shape[0]\n",
    "print(\"The probability of banking_crisis for Egypt = \", round(prob_bc_Egypt,2))"
   ]
  },
  {
   "cell_type": "code",
   "execution_count": 33,
   "metadata": {
    "colab": {},
    "colab_type": "code",
    "id": "7aDrb-nSH2Oy"
   },
   "outputs": [
    {
     "name": "stdout",
     "output_type": "stream",
     "text": [
      "The probability of banking_crisis given that systemic_crisis has already occurred =  0.93\n",
      "The probability of banking_crisis given that inflation_crises has already occurred =  0.26\n"
     ]
    }
   ],
   "source": [
    "# The probability of banking_crisis given that systemic_crisis has already occurred\n",
    "prob_bc_givensc = df[(df['banking_crisis'] == 'crisis') & (\n",
    "    df['systemic_crisis'] == 1)].shape[0]/df[df['systemic_crisis'] == 1].shape[0]\n",
    "print(\"The probability of banking_crisis given that systemic_crisis has already occurred = \", round(prob_bc_givensc,2))\n",
    "\n",
    "\n",
    "# The probability of banking_crisis given that inflation_crises has already occurred\n",
    "prob_bc_givenic = df[(df['banking_crisis'] == 'crisis') & (\n",
    "    df['inflation_crises'] == 1)].shape[0]/df[df['inflation_crises'] == 1].shape[0]\n",
    "print(\"The probability of banking_crisis given that inflation_crises has already occurred = \", round(prob_bc_givenic,2))"
   ]
  },
  {
   "cell_type": "code",
   "execution_count": 34,
   "metadata": {
    "colab": {},
    "colab_type": "code",
    "id": "PgSGnRihcI-z"
   },
   "outputs": [
    {
     "name": "stdout",
     "output_type": "stream",
     "text": [
      "The probability of systemic_crisis given that banking_crisis has already occurred =  0.81\n"
     ]
    }
   ],
   "source": [
    "# The probability of systemic_crisis given that banking_crisis has already occurred\n",
    "# Using Bayes Theorem\n",
    "prob_sc_givenbc = (prob_bc_givensc*prob_sc)/prob_bc\n",
    "print(\"The probability of systemic_crisis given that banking_crisis has already occurred = \", round(prob_sc_givenbc,2))"
   ]
  },
  {
   "cell_type": "markdown",
   "metadata": {
    "colab_type": "text",
    "id": "3owLEmxBRkpr"
   },
   "source": [
    "## Activity 2\n",
    "***\n",
    "\n",
    "In this task, we will further explore the House Price dataset (already stored in the `data` dataframe from above).\n",
    "* Visualize the distribution of `LotArea`, `GrLivArea` and `GarageArea`. What can you say about their distribution?\n",
    "* Define a new column `GrLivArea_z` that will store the z-scores of the column `GrLivArea`.\n",
    "\n"
   ]
  },
  {
   "cell_type": "code",
   "execution_count": 36,
   "metadata": {
    "colab": {},
    "colab_type": "code",
    "id": "3YIBqzStVUg7"
   },
   "outputs": [
    {
     "data": {
      "text/html": [
       "<div>\n",
       "<style scoped>\n",
       "    .dataframe tbody tr th:only-of-type {\n",
       "        vertical-align: middle;\n",
       "    }\n",
       "\n",
       "    .dataframe tbody tr th {\n",
       "        vertical-align: top;\n",
       "    }\n",
       "\n",
       "    .dataframe thead th {\n",
       "        text-align: right;\n",
       "    }\n",
       "</style>\n",
       "<table border=\"1\" class=\"dataframe\">\n",
       "  <thead>\n",
       "    <tr style=\"text-align: right;\">\n",
       "      <th></th>\n",
       "      <th>Unnamed: 0</th>\n",
       "      <th>Id</th>\n",
       "      <th>LotArea</th>\n",
       "      <th>Neighborhood</th>\n",
       "      <th>BldgType</th>\n",
       "      <th>HouseStyle</th>\n",
       "      <th>OverallQual</th>\n",
       "      <th>OverallCond</th>\n",
       "      <th>YearBuilt</th>\n",
       "      <th>Heating</th>\n",
       "      <th>GrLivArea</th>\n",
       "      <th>TotRmsAbvGrd</th>\n",
       "      <th>GarageType</th>\n",
       "      <th>GarageYrBlt</th>\n",
       "      <th>GarageCars</th>\n",
       "      <th>GarageArea</th>\n",
       "      <th>YrSold</th>\n",
       "      <th>SaleCondition</th>\n",
       "      <th>SalePrice</th>\n",
       "    </tr>\n",
       "  </thead>\n",
       "  <tbody>\n",
       "    <tr>\n",
       "      <th>0</th>\n",
       "      <td>0</td>\n",
       "      <td>1</td>\n",
       "      <td>8450</td>\n",
       "      <td>CollgCr</td>\n",
       "      <td>1Fam</td>\n",
       "      <td>2Story</td>\n",
       "      <td>7</td>\n",
       "      <td>5</td>\n",
       "      <td>2003</td>\n",
       "      <td>GasA</td>\n",
       "      <td>1710</td>\n",
       "      <td>8</td>\n",
       "      <td>Attchd</td>\n",
       "      <td>2003.0</td>\n",
       "      <td>2</td>\n",
       "      <td>548</td>\n",
       "      <td>2008</td>\n",
       "      <td>Normal</td>\n",
       "      <td>208500</td>\n",
       "    </tr>\n",
       "    <tr>\n",
       "      <th>1</th>\n",
       "      <td>1</td>\n",
       "      <td>2</td>\n",
       "      <td>9600</td>\n",
       "      <td>Veenker</td>\n",
       "      <td>1Fam</td>\n",
       "      <td>1Story</td>\n",
       "      <td>6</td>\n",
       "      <td>8</td>\n",
       "      <td>1976</td>\n",
       "      <td>GasA</td>\n",
       "      <td>1262</td>\n",
       "      <td>6</td>\n",
       "      <td>Attchd</td>\n",
       "      <td>1976.0</td>\n",
       "      <td>2</td>\n",
       "      <td>460</td>\n",
       "      <td>2007</td>\n",
       "      <td>Normal</td>\n",
       "      <td>181500</td>\n",
       "    </tr>\n",
       "    <tr>\n",
       "      <th>2</th>\n",
       "      <td>2</td>\n",
       "      <td>3</td>\n",
       "      <td>11250</td>\n",
       "      <td>CollgCr</td>\n",
       "      <td>1Fam</td>\n",
       "      <td>2Story</td>\n",
       "      <td>7</td>\n",
       "      <td>5</td>\n",
       "      <td>2001</td>\n",
       "      <td>GasA</td>\n",
       "      <td>1786</td>\n",
       "      <td>6</td>\n",
       "      <td>Attchd</td>\n",
       "      <td>2001.0</td>\n",
       "      <td>2</td>\n",
       "      <td>608</td>\n",
       "      <td>2008</td>\n",
       "      <td>Normal</td>\n",
       "      <td>223500</td>\n",
       "    </tr>\n",
       "    <tr>\n",
       "      <th>3</th>\n",
       "      <td>3</td>\n",
       "      <td>4</td>\n",
       "      <td>9550</td>\n",
       "      <td>Crawfor</td>\n",
       "      <td>1Fam</td>\n",
       "      <td>2Story</td>\n",
       "      <td>7</td>\n",
       "      <td>5</td>\n",
       "      <td>1915</td>\n",
       "      <td>GasA</td>\n",
       "      <td>1717</td>\n",
       "      <td>7</td>\n",
       "      <td>Detchd</td>\n",
       "      <td>1998.0</td>\n",
       "      <td>3</td>\n",
       "      <td>642</td>\n",
       "      <td>2006</td>\n",
       "      <td>Abnorml</td>\n",
       "      <td>140000</td>\n",
       "    </tr>\n",
       "    <tr>\n",
       "      <th>4</th>\n",
       "      <td>4</td>\n",
       "      <td>5</td>\n",
       "      <td>14260</td>\n",
       "      <td>NoRidge</td>\n",
       "      <td>1Fam</td>\n",
       "      <td>2Story</td>\n",
       "      <td>8</td>\n",
       "      <td>5</td>\n",
       "      <td>2000</td>\n",
       "      <td>GasA</td>\n",
       "      <td>2198</td>\n",
       "      <td>9</td>\n",
       "      <td>Attchd</td>\n",
       "      <td>2000.0</td>\n",
       "      <td>3</td>\n",
       "      <td>836</td>\n",
       "      <td>2008</td>\n",
       "      <td>Normal</td>\n",
       "      <td>250000</td>\n",
       "    </tr>\n",
       "  </tbody>\n",
       "</table>\n",
       "</div>"
      ],
      "text/plain": [
       "   Unnamed: 0  Id  LotArea Neighborhood BldgType HouseStyle  OverallQual  \\\n",
       "0           0   1     8450      CollgCr     1Fam     2Story            7   \n",
       "1           1   2     9600      Veenker     1Fam     1Story            6   \n",
       "2           2   3    11250      CollgCr     1Fam     2Story            7   \n",
       "3           3   4     9550      Crawfor     1Fam     2Story            7   \n",
       "4           4   5    14260      NoRidge     1Fam     2Story            8   \n",
       "\n",
       "   OverallCond  YearBuilt Heating  GrLivArea  TotRmsAbvGrd GarageType  \\\n",
       "0            5       2003    GasA       1710             8     Attchd   \n",
       "1            8       1976    GasA       1262             6     Attchd   \n",
       "2            5       2001    GasA       1786             6     Attchd   \n",
       "3            5       1915    GasA       1717             7     Detchd   \n",
       "4            5       2000    GasA       2198             9     Attchd   \n",
       "\n",
       "   GarageYrBlt  GarageCars  GarageArea  YrSold SaleCondition  SalePrice  \n",
       "0       2003.0           2         548    2008        Normal     208500  \n",
       "1       1976.0           2         460    2007        Normal     181500  \n",
       "2       2001.0           2         608    2008        Normal     223500  \n",
       "3       1998.0           3         642    2006       Abnorml     140000  \n",
       "4       2000.0           3         836    2008        Normal     250000  "
      ]
     },
     "execution_count": 36,
     "metadata": {},
     "output_type": "execute_result"
    }
   ],
   "source": [
    "data.head()"
   ]
  },
  {
   "cell_type": "code",
   "execution_count": 51,
   "metadata": {
    "colab": {},
    "colab_type": "code",
    "id": "4z3x6VolYP2g"
   },
   "outputs": [
    {
     "data": {
      "text/plain": [
       "Text(0.5, 1.0, 'GarageArea')"
      ]
     },
     "execution_count": 51,
     "metadata": {},
     "output_type": "execute_result"
    },
    {
     "data": {
      "image/png": "[encoded data removed]",
      "text/plain": [
       "<Figure size 1080x360 with 3 Axes>"
      ]
     },
     "metadata": {
      "needs_background": "light"
     },
     "output_type": "display_data"
    }
   ],
   "source": [
    "# Visualize the distribution of LotArea, GrLivArea and GarageArea. What can you say about their distribution?\n",
    "\n",
    "fig, axes = plt.subplots(1, 3, figsize=(15,5))\n",
    "\n",
    "sns.distplot(ax=axes[0], a=data['LotArea'])\n",
    "axes[0].set_title(\"LotArea\")\n",
    "\n",
    "sns.distplot(ax=axes[1], a=data['GrLivArea'])\n",
    "axes[1].set_title(\"GrLivArea\")\n",
    "\n",
    "sns.distplot(ax=axes[2], a=data['GarageArea'])\n",
    "axes[2].set_title(\"GarageArea\")"
   ]
  },
  {
   "cell_type": "code",
   "execution_count": 61,
   "metadata": {},
   "outputs": [
    {
     "name": "stdout",
     "output_type": "stream",
     "text": [
      "Skewness of LotArea =  12.207687851233496\n",
      "Skewness of GrLivArea =  1.3665603560164552\n",
      "Skewness of GarageArea =  0.17998090674623907\n"
     ]
    }
   ],
   "source": [
    "print(\"Skewness of LotArea = \",data['LotArea'].skew())\n",
    "print(\"Skewness of GrLivArea = \",data['GrLivArea'].skew())\n",
    "print(\"Skewness of GarageArea = \",data['GarageArea'].skew())"
   ]
  },
  {
   "cell_type": "markdown",
   "metadata": {},
   "source": [
    "<b> Observation </b>\n",
    "- Distribution of LotArea is highly right skewed with a skewness of 12.21\n",
    "- Distribution of GrLivArea is normal with a slight positive skewness of 1.37\n",
    "- Distribution of GarageArea is normal with presence of outliers and a slight positive skewness of 0.18"
   ]
  },
  {
   "cell_type": "code",
   "execution_count": 54,
   "metadata": {
    "colab": {},
    "colab_type": "code",
    "id": "sMjbIrwqdHbD"
   },
   "outputs": [
    {
     "data": {
      "text/plain": [
       "0    0.370333\n",
       "1   -0.482512\n",
       "2    0.515013\n",
       "3    0.383659\n",
       "4    1.299326\n",
       "Name: GrLivArea_z, dtype: float64"
      ]
     },
     "execution_count": 54,
     "metadata": {},
     "output_type": "execute_result"
    }
   ],
   "source": [
    "# Define a new column GrLivArea_z that will store the z-scores of the column GrLivArea\n",
    "data['GrLivArea_z'] = (data['GrLivArea']-np.mean(data['GrLivArea']))/np.std(data['GrLivArea'])\n",
    "data['GrLivArea_z'].head()"
   ]
  },
  {
   "cell_type": "code",
   "execution_count": 56,
   "metadata": {},
   "outputs": [
    {
     "name": "stdout",
     "output_type": "stream",
     "text": [
      "0.9431727242663586\n",
      "0.9999999999999999\n"
     ]
    }
   ],
   "source": [
    "# Understnading Pearson's vs Spearman's Corr Coeff\n",
    "import pandas as pd\n",
    "import numpy as np\n",
    "x = pd.Series([1, 2, 3, 4, 5])\n",
    "y = pd.Series([1, 16, 27, 64, 125])\n",
    "print(x.corr(y, method='pearson'))\n",
    "print(x.corr(y, method='spearman'))"
   ]
  },
  {
   "cell_type": "code",
   "execution_count": 57,
   "metadata": {},
   "outputs": [
    {
     "name": "stdout",
     "output_type": "stream",
     "text": [
      "0.9999999999999999\n",
      "0.9999999999999999\n"
     ]
    }
   ],
   "source": [
    "import pandas as pd\n",
    "import numpy as np\n",
    "x = pd.Series([1, 2, 3, 4, 5])\n",
    "y = pd.Series([2, 4, 6, 8, 10])\n",
    "print(x.corr(y, method='pearson'))\n",
    "print(x.corr(y, method='spearman'))"
   ]
  }
 ],
 "metadata": {
  "anaconda-cloud": {},
  "celltoolbar": "Slideshow",
  "colab": {
   "collapsed_sections": [
    "P5yjXcl-AZKa",
    "tabfpgpsAZKa",
    "gmhSxkA8AZKb",
    "kxXTkTQiAZKh",
    "2r7B_VOjAZKh",
    "wvTVvDtkAZKj",
    "n0cWxosJAZKj",
    "ZatCGkoUAZKk",
    "yvznTRu8AZKk",
    "rMAEMZSjAZKl",
    "LqR7Vg31AZKn",
    "xILa3nKJAZKn",
    "-Iiv3h1zAZKn",
    "K9v62bFKAZKo",
    "jHSsm27qAZKo",
    "6O5dModvAZKp",
    "qLcc0g4oAZKq",
    "z1ZObVc6AZKu",
    "t0qn4MeZAZKu",
    "w6TyD7EFAZKu",
    "5PioyPFxAZKv",
    "ryfmc1SEAZKw",
    "wq2xJZhAAZKw"
   ],
   "name": "Learner_Introduction to Probability.ipynb",
   "provenance": []
  },
  "kernelspec": {
   "display_name": "Python 3",
   "language": "python",
   "name": "python3"
  },
  "language_info": {
   "codemirror_mode": {
    "name": "ipython",
    "version": 3
   },
   "file_extension": ".py",
   "mimetype": "text/x-python",
   "name": "python",
   "nbconvert_exporter": "python",
   "pygments_lexer": "ipython3",
   "version": "3.8.3"
  },
  "toc": {
   "base_numbering": 1,
   "nav_menu": {},
   "number_sections": true,
   "sideBar": true,
   "skip_h1_title": false,
   "title_cell": "Table of Contents",
   "title_sidebar": "Contents",
   "toc_cell": false,
   "toc_position": {},
   "toc_section_display": true,
   "toc_window_display": false
  },
  "varInspector": {
   "cols": {
    "lenName": 16,
    "lenType": 16,
    "lenVar": 40
   },
   "kernels_config": {
    "python": {
     "delete_cmd_postfix": "",
     "delete_cmd_prefix": "del ",
     "library": "var_list.py",
     "varRefreshCmd": "print(var_dic_list())"
    },
    "r": {
     "delete_cmd_postfix": ") ",
     "delete_cmd_prefix": "rm(",
     "library": "var_list.r",
     "varRefreshCmd": "cat(var_dic_list()) "
    }
   },
   "types_to_exclude": [
    "module",
    "function",
    "builtin_function_or_method",
    "instance",
    "_Feature"
   ],
   "window_display": false
  }
 },
 "nbformat": 4,
 "nbformat_minor": 1
}
